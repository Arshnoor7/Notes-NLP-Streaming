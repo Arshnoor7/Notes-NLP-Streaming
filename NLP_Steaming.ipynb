{
  "cells": [
    {
      "cell_type": "markdown",
      "metadata": {
        "id": "view-in-github",
        "colab_type": "text"
      },
      "source": [
        "<a href=\"https://colab.research.google.com/github/Arshnoor7/Notes-NLP-Streaming/blob/main/NLP_Steaming.ipynb\" target=\"_parent\"><img src=\"https://colab.research.google.com/assets/colab-badge.svg\" alt=\"Open In Colab\"/></a>"
      ]
    },
    {
      "cell_type": "markdown",
      "metadata": {
        "id": "sa6O75cMlCHP"
      },
      "source": [
        "#### About\n",
        "\n",
        "Stemming involve reduction of a word to its word stem and is vital to various tasks of NLP, NLU.\n",
        "\n",
        "General rule of thumb\n",
        "\n",
        "Reduce the suffix to following\n",
        "\n",
        "1. SSES - SS\n",
        "2. S - NULL\n",
        "3. IES - I\n",
        "4. SS - SS\n",
        "5. LY - LI\n",
        "\n",
        "* Porter Algorithm is the most common algorithm deployed in NLP/NLU tasks for Stemming.\n",
        "* Lancaster Stemming which stems based on the last letter of the words also exists, But is often computationally expensive.\n",
        "* Lovins Stemmer on the other hand is a single pass, context sensitive stemmer which removes ending based on the longest match principle.\n",
        "\n",
        "Snowball Stemmer is mostly deployed for stemming."
      ]
    },
    {
      "cell_type": "code",
      "execution_count": 1,
      "metadata": {
        "colab": {
          "base_uri": "https://localhost:8080/"
        },
        "id": "RIbMByUMlCHS",
        "outputId": "ac8cbd14-698a-4ac2-89c3-6958192adf59"
      },
      "outputs": [
        {
          "output_type": "stream",
          "name": "stdout",
          "text": [
            "Original Word: program & Stem: program\n",
            "Original Word: programming & Stem: program\n",
            "Original Word: programmer & Stem: programm\n",
            "Original Word: programmed & Stem: program\n",
            "Original Word: programmatically & Stem: programmat\n"
          ]
        }
      ],
      "source": [
        "from nltk.stem import PorterStemmer\n",
        "from nltk.tokenize import word_tokenize\n",
        "\n",
        "stemmer = PorterStemmer()\n",
        "\n",
        "words = [\"program\",\"programming\",\"programmer\",\"programmed\",\"programmatically\"]\n",
        "\n",
        "for word in words:\n",
        "    print((\"Original Word: {} & Stem: {}\").format(word,stemmer.stem(word)))"
      ]
    },
    {
      "cell_type": "code",
      "source": [
        "import nltk\n",
        "\n",
        "nltk.download('punkt')\n"
      ],
      "metadata": {
        "colab": {
          "base_uri": "https://localhost:8080/"
        },
        "id": "BOY1FA8WlpBk",
        "outputId": "f8e44ec3-8c4a-49ed-94da-c00ebdd50a6d"
      },
      "execution_count": 2,
      "outputs": [
        {
          "output_type": "stream",
          "name": "stderr",
          "text": [
            "[nltk_data] Downloading package punkt to /root/nltk_data...\n",
            "[nltk_data]   Unzipping tokenizers/punkt.zip.\n"
          ]
        },
        {
          "output_type": "execute_result",
          "data": {
            "text/plain": [
              "True"
            ]
          },
          "metadata": {},
          "execution_count": 2
        }
      ]
    },
    {
      "cell_type": "code",
      "execution_count": 3,
      "metadata": {
        "colab": {
          "base_uri": "https://localhost:8080/"
        },
        "id": "tvc8TjT0lCHV",
        "outputId": "18c42fd1-d3d0-4880-e7d1-caab0b13c702"
      },
      "outputs": [
        {
          "output_type": "stream",
          "name": "stdout",
          "text": [
            "Original Word: Only & Stem: onli\n",
            "Original Word: a & Stem: a\n",
            "Original Word: troubled & Stem: troubl\n",
            "Original Word: programmer & Stem: programm\n",
            "Original Word: uses & Stem: use\n",
            "Original Word: troubling & Stem: troubl\n",
            "Original Word: methods & Stem: method\n",
            "Original Word: of & Stem: of\n",
            "Original Word: programming & Stem: program\n",
            "Original Word: to & Stem: to\n",
            "Original Word: write & Stem: write\n",
            "Original Word: a & Stem: a\n",
            "Original Word: better & Stem: better\n",
            "Original Word: program & Stem: program\n",
            "Original Word: with & Stem: with\n",
            "Original Word: which & Stem: which\n",
            "Original Word: others & Stem: other\n",
            "Original Word: are & Stem: are\n",
            "Original Word: not & Stem: not\n",
            "Original Word: troubled & Stem: troubl\n"
          ]
        }
      ],
      "source": [
        "from nltk.tokenize import word_tokenize\n",
        "from nltk.stem import PorterStemmer\n",
        "\n",
        "sentence = \"Only a troubled programmer uses troubling methods of programming to write a better program with which others are not troubled\"\n",
        "words = word_tokenize(sentence)\n",
        "\n",
        "stemmer = PorterStemmer()\n",
        "\n",
        "for word in words:\n",
        "    print((\"Original Word: {} & Stem: {}\").format(word, stemmer.stem(word)))\n"
      ]
    },
    {
      "cell_type": "code",
      "execution_count": 4,
      "metadata": {
        "colab": {
          "base_uri": "https://localhost:8080/"
        },
        "id": "eIKTZLE_lCHW",
        "outputId": "dadfd0b3-0070-4864-b907-9598d3001284"
      },
      "outputs": [
        {
          "output_type": "stream",
          "name": "stdout",
          "text": [
            "Original Word: program & Stem: program\n",
            "Original Word: programming & Stem: program\n",
            "Original Word: programmer & Stem: programm\n",
            "Original Word: programmed & Stem: program\n",
            "Original Word: programmatically & Stem: programmat\n"
          ]
        }
      ],
      "source": [
        "# similarly in place of porter stemmer we can use Snowball stemmer\n",
        "# let's compare the result of snowball stemmer.MARTIN_EXTENSIONS\n",
        "from nltk.stem import SnowballStemmer\n",
        "from nltk.tokenize import word_tokenize\n",
        "\n",
        "snowball_stemmer = SnowballStemmer('english')\n",
        "words = [\"program\",\"programming\",\"programmer\",\"programmed\",\"programmatically\"]\n",
        "\n",
        "for word in words:\n",
        "    print((\"Original Word: {} & Stem: {}\").format(word,snowball_stemmer.stem(word)))"
      ]
    },
    {
      "cell_type": "code",
      "execution_count": 5,
      "metadata": {
        "colab": {
          "base_uri": "https://localhost:8080/"
        },
        "id": "XLZAgKs4lCHX",
        "outputId": "e9d988ae-b3e1-414f-b712-2863855a8f18"
      },
      "outputs": [
        {
          "output_type": "stream",
          "name": "stdout",
          "text": [
            "Original Word: Only & Stem: onli\n",
            "Original Word: a & Stem: a\n",
            "Original Word: troubled & Stem: troubl\n",
            "Original Word: programmer & Stem: programm\n",
            "Original Word: uses & Stem: use\n",
            "Original Word: troubling & Stem: troubl\n",
            "Original Word: methods & Stem: method\n",
            "Original Word: of & Stem: of\n",
            "Original Word: programming & Stem: program\n",
            "Original Word: to & Stem: to\n",
            "Original Word: write & Stem: write\n",
            "Original Word: a & Stem: a\n",
            "Original Word: better & Stem: better\n",
            "Original Word: program & Stem: program\n",
            "Original Word: with & Stem: with\n",
            "Original Word: which & Stem: which\n",
            "Original Word: others & Stem: other\n",
            "Original Word: are & Stem: are\n",
            "Original Word: not & Stem: not\n",
            "Original Word: troubled & Stem: troubl\n"
          ]
        }
      ],
      "source": [
        "sentence = \"Only a troubled programmer uses troubling methods of programming to write a better program with which others are not troubled\"\n",
        "words = word_tokenize(sentence)\n",
        "\n",
        "for word in words:\n",
        "    print((\"Original Word: {} & Stem: {}\").format(word,snowball_stemmer.stem(word)))"
      ]
    },
    {
      "cell_type": "markdown",
      "metadata": {
        "id": "D_hvC4bQlCHY"
      },
      "source": [
        "Same results from both porter stemmer and Snowball stemmer.\n",
        "Let's evaluate Lancaster Stemmer."
      ]
    },
    {
      "cell_type": "code",
      "execution_count": 6,
      "metadata": {
        "colab": {
          "base_uri": "https://localhost:8080/"
        },
        "id": "BPtujt5wlCHZ",
        "outputId": "477827a6-1166-483b-ae5a-f961e0adf030"
      },
      "outputs": [
        {
          "output_type": "stream",
          "name": "stdout",
          "text": [
            "Original Word: program & Stem: program\n",
            "Original Word: programming & Stem: program\n",
            "Original Word: programmer & Stem: program\n",
            "Original Word: programmed & Stem: program\n",
            "Original Word: programmatically & Stem: program\n"
          ]
        }
      ],
      "source": [
        "from nltk.stem import LancasterStemmer\n",
        "from nltk.tokenize import word_tokenize\n",
        "\n",
        "lancaster_stemmer = LancasterStemmer()\n",
        "words = [\"program\",\"programming\",\"programmer\",\"programmed\",\"programmatically\"]\n",
        "\n",
        "for word in words:\n",
        "    print((\"Original Word: {} & Stem: {}\").format(word,lancaster_stemmer.stem(word)))"
      ]
    },
    {
      "cell_type": "code",
      "execution_count": 7,
      "metadata": {
        "colab": {
          "base_uri": "https://localhost:8080/"
        },
        "id": "f8-WK-AklCHa",
        "outputId": "de90e8fd-10bd-4bfa-cdf7-94e7b25bcb12"
      },
      "outputs": [
        {
          "output_type": "stream",
          "name": "stdout",
          "text": [
            "Original Word: Only & Stem: on\n",
            "Original Word: a & Stem: a\n",
            "Original Word: troubled & Stem: troubl\n",
            "Original Word: programmer & Stem: program\n",
            "Original Word: uses & Stem: us\n",
            "Original Word: troubling & Stem: troubl\n",
            "Original Word: methods & Stem: method\n",
            "Original Word: of & Stem: of\n",
            "Original Word: programming & Stem: program\n",
            "Original Word: to & Stem: to\n",
            "Original Word: write & Stem: writ\n",
            "Original Word: a & Stem: a\n",
            "Original Word: better & Stem: bet\n",
            "Original Word: program & Stem: program\n",
            "Original Word: with & Stem: with\n",
            "Original Word: which & Stem: which\n",
            "Original Word: others & Stem: oth\n",
            "Original Word: are & Stem: ar\n",
            "Original Word: not & Stem: not\n",
            "Original Word: troubled & Stem: troubl\n"
          ]
        }
      ],
      "source": [
        "sentence = \"Only a troubled programmer uses troubling methods of programming to write a better program with which others are not troubled\"\n",
        "words = word_tokenize(sentence)\n",
        "\n",
        "for word in words:\n",
        "    print((\"Original Word: {} & Stem: {}\").format(word,lancaster_stemmer.stem(word)))"
      ]
    },
    {
      "cell_type": "markdown",
      "metadata": {
        "id": "cw2dILijlCHb"
      },
      "source": [
        "We can observe that the results of Lancaster Stemmer looks different than the previous ones.\n",
        "\n",
        "Similarly, We can use Porter2, Paice-Husk and Lovins Stemming algorithms.\n",
        "\n",
        "<a href=\"https://www.scientificpsychic.com/paice/paice.html\">Relevant Links </a>"
      ]
    }
  ],
  "metadata": {
    "kernelspec": {
      "display_name": "dl",
      "language": "python",
      "name": "python3"
    },
    "language_info": {
      "codemirror_mode": {
        "name": "ipython",
        "version": 3
      },
      "file_extension": ".py",
      "mimetype": "text/x-python",
      "name": "python",
      "nbconvert_exporter": "python",
      "pygments_lexer": "ipython3",
      "version": "3.7.11 (default, Jul 27 2021, 14:32:16) \n[GCC 7.5.0]"
    },
    "orig_nbformat": 4,
    "vscode": {
      "interpreter": {
        "hash": "50052c996937e9a0e161d422489677fdaadc23d756ac209b7397e80e5ea8cea0"
      }
    },
    "colab": {
      "provenance": [],
      "include_colab_link": true
    }
  },
  "nbformat": 4,
  "nbformat_minor": 0
}